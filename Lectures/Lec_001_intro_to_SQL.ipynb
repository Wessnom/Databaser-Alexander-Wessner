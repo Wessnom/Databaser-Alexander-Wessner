{
 "cells": [
  {
   "cell_type": "markdown",
   "metadata": {},
   "source": [
    "## Introduktion till SQL - Structured Query Language"
   ]
  },
  {
   "cell_type": "markdown",
   "metadata": {},
   "source": [
    "* ***Databas*** - en samling av data som är organiserad på ett sätt som gör det möjligt att lagra, hantera och hämta information.\n",
    "* **Databashanterare** (*DBMS*) **D**ata **B**ase **M**anagement **S**ystem - <br> är den mjukvara som används för att söka och manipulera data i en specifik typ av databas.\n",
    "* **SQL** - Structured Query Language - är ett speciellt språk som används för att kommunicera med databaser.\n",
    "* Det finns *olika sorters* databaser. Fokus i kursen ligger på relationsdatabaser som är väldigt vanliga i dagens samhälle.\n",
    "- **Relationsdatabaser** lagrar data i tabellform, och ofta är det relationerna mellan olika tabeller som är intressanta.\n",
    "\n",
    "Namnet kommer både från matematik relation som i princip betyder tabell men också från att det finns relationer mellan tabellerna.\n"
   ]
  },
  {
   "cell_type": "markdown",
   "metadata": {},
   "source": []
  },
  {
   "cell_type": "code",
   "execution_count": null,
   "metadata": {},
   "outputs": [],
   "source": []
  }
 ],
 "metadata": {
  "language_info": {
   "name": "python"
  }
 },
 "nbformat": 4,
 "nbformat_minor": 2
}
